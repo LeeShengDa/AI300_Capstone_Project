{
 "cells": [
  {
   "cell_type": "code",
   "execution_count": 20,
   "metadata": {},
   "outputs": [],
   "source": [
    "import pandas as pd\n",
    "from sqlalchemy import create_engine\n",
    "import matplotlib.pyplot as plt\n",
    "import seaborn as sns\n",
    "\n",
    "ENDPOINT = 'heicoders-playground.c2ced10ceyki.ap-southeast-1.rds.amazonaws.com'\n",
    "PORT = 3306\n",
    "USERNAME = 'student300'\n",
    "PASSWORD = 'heicoders_AI300'\n",
    "DBNAME = 'ai300_capstone'\n",
    "\n",
    "database_conn = create_engine(f'mysql+pymysql://{USERNAME}:{PASSWORD}@{ENDPOINT}/{DBNAME}')\n",
    "\n"
   ]
  },
  {
   "cell_type": "code",
   "execution_count": 2,
   "metadata": {},
   "outputs": [],
   "source": [
    "query_churn_status = \"\"\"\n",
    "    SELECT * \n",
    "    FROM churn_status;\n",
    "\"\"\"\n",
    "churn_status_df = pd.read_sql(query_churn_status, database_conn)\n",
    "\n",
    "\n",
    "query_account = \"\"\"\n",
    "    SELECT * \n",
    "    FROM account;\n",
    "\"\"\"\n",
    "account_df = pd.read_sql(query_account, database_conn)\n",
    "\n",
    "\n",
    "query_account_usage = \"\"\"\n",
    "    SELECT * \n",
    "    FROM account_usage;\n",
    "\"\"\"\n",
    "account_usage_df = pd.read_sql(query_account_usage, database_conn)\n",
    "\n",
    "\n",
    "query_customer = \"\"\"\n",
    "    SELECT * \n",
    "    FROM customer;\n",
    "\"\"\"\n",
    "customer_df = pd.read_sql(query_customer, database_conn)\n",
    "\n",
    "\n",
    "query_city = \"\"\"\n",
    "    SELECT * \n",
    "    FROM city;\n",
    "\"\"\"\n",
    "city_df = pd.read_sql(query_city, database_conn)"
   ]
  },
  {
   "cell_type": "code",
   "execution_count": 28,
   "metadata": {},
   "outputs": [
    {
     "data": {
      "text/plain": [
       "65"
      ]
     },
     "execution_count": 28,
     "metadata": {},
     "output_type": "execute_result"
    }
   ],
   "source": [
    "# Join tables\n",
    "\n",
    "query_full = \"\"\"\n",
    "    SELECT A.churn_category,\n",
    "            A.churn_reason,\n",
    "            D.age,\n",
    "            D.senior_citizen\n",
    "    FROM churn_status AS A\n",
    "    LEFT JOIN account AS B\n",
    "    ON A.customer_id = B.customer_id\n",
    "    LEFT JOIN account_usage AS C\n",
    "    ON B.account_id = C.account_id\n",
    "    LEFT JOIN customer AS D\n",
    "    ON A.customer_id = D.customer_id\n",
    "\"\"\"\n",
    "\n",
    "full_df = pd.read_sql(query_full, database_conn)\n",
    "# full_df.info()\n",
    "\n",
    "smaller_df = full_df[full_df[\"senior_citizen\"] == \"Yes\"]\n",
    "smaller_df[\"age\"].min()"
   ]
  },
  {
   "cell_type": "code",
   "execution_count": 25,
   "metadata": {},
   "outputs": [
    {
     "name": "stderr",
     "output_type": "stream",
     "text": [
      "c:\\Users\\ShengDa\\anaconda3\\Lib\\site-packages\\seaborn\\_oldcore.py:1119: FutureWarning: use_inf_as_na option is deprecated and will be removed in a future version. Convert inf values to NaN before operating instead.\n",
      "  with pd.option_context('mode.use_inf_as_na', True):\n"
     ]
    },
    {
     "data": {
      "image/png": "[encoded data removed]",
      "text/plain": [
       "<Figure size 640x480 with 1 Axes>"
      ]
     },
     "metadata": {},
     "output_type": "display_data"
    }
   ],
   "source": [
    "sns.histplot(smaller_df[\"age\"])\n",
    "plt.show()"
   ]
  },
  {
   "cell_type": "code",
   "execution_count": null,
   "metadata": {},
   "outputs": [],
   "source": []
  }
 ],
 "metadata": {
  "kernelspec": {
   "display_name": "base",
   "language": "python",
   "name": "python3"
  },
  "language_info": {
   "codemirror_mode": {
    "name": "ipython",
    "version": 3
   },
   "file_extension": ".py",
   "mimetype": "text/x-python",
   "name": "python",
   "nbconvert_exporter": "python",
   "pygments_lexer": "ipython3",
   "version": "3.11.7"
  }
 },
 "nbformat": 4,
 "nbformat_minor": 2
}
